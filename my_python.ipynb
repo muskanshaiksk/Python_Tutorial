{
 "cells": [
  {
   "cell_type": "code",
   "execution_count": 15,
   "id": "a4a219e1-7c2d-449a-a23b-3206fc1d5f9b",
   "metadata": {},
   "outputs": [
    {
     "name": "stdout",
     "output_type": "stream",
     "text": [
      "hello world iam india\n",
      "hello world iam india 99\n",
      "True\n"
     ]
    }
   ],
   "source": [
    "print(\"hello world\",\"iam india\")\n",
    "print(\"hello world\",\"iam india\",99)\n",
    "print(30<60)"
   ]
  },
  {
   "cell_type": "code",
   "execution_count": 17,
   "id": "85ef99ac-099d-4623-8fcb-b0cbc1e833bb",
   "metadata": {},
   "outputs": [
    {
     "name": "stdout",
     "output_type": "stream",
     "text": [
      "10 20\n",
      "a 20\n",
      "140734172834520 140734172834840\n"
     ]
    }
   ],
   "source": [
    "a=10\n",
    "b=20\n",
    "print(a,b)\n",
    "print('a',b)\n",
    "print(id(a),id(b))"
   ]
  },
  {
   "cell_type": "code",
   "execution_count": 23,
   "id": "bda8e06f-3c93-4064-82b7-5de31d983176",
   "metadata": {},
   "outputs": [
    {
     "name": "stdout",
     "output_type": "stream",
     "text": [
      "hello world\n",
      "130\n"
     ]
    }
   ],
   "source": [
    "a=90\n",
    "b=\"world\"\n",
    "c=\"hello\"\n",
    "#concatenate\n",
    "print(c+\" \"+b)\n",
    "#addition\n",
    "print(a+40)\n"
   ]
  },
  {
   "cell_type": "code",
   "execution_count": 21,
   "id": "023cbcf3-53b2-4f84-86b0-38cdf922ce48",
   "metadata": {},
   "outputs": [
    {
     "name": "stdout",
     "output_type": "stream",
     "text": [
      "85\n",
      "-75\n",
      "400\n",
      "0.0625\n",
      "5\n",
      "2\n",
      "25\n",
      "125\n",
      "26\n"
     ]
    }
   ],
   "source": [
    "#Arithmetic operators\n",
    "a=5\n",
    "b=80\n",
    "print(a+b) #addition\n",
    "print(a-b) #Substration\n",
    "print(a*b) # multiplication\n",
    "print(a/b) #Division\n",
    "print(a%b) #modulus\n",
    "print(a%3) \n",
    "print(a**2) #exponents(5*5)\n",
    "print(a**3) #5*5*5\n",
    "print(b//3) #floor division"
   ]
  },
  {
   "cell_type": "code",
   "execution_count": 39,
   "id": "4f778fe5-b862-445a-ab02-3aedfd04c603",
   "metadata": {},
   "outputs": [
    {
     "name": "stdout",
     "output_type": "stream",
     "text": [
      "5\n",
      "10\n",
      "15\n",
      "10\n",
      "5\n"
     ]
    }
   ],
   "source": [
    "#assignmnet operator\n",
    "x=5\n",
    "print(x)\n",
    "x=x+5\n",
    "print(x)\n",
    "x+=5\n",
    "print(x)\n",
    "x=x-5\n",
    "print(x)\n",
    "x-=5\n",
    "print(x)"
   ]
  },
  {
   "cell_type": "code",
   "execution_count": 50,
   "id": "c3a4f81c-029f-44c2-b5dc-762e99a3e3a4",
   "metadata": {},
   "outputs": [
    {
     "name": "stdout",
     "output_type": "stream",
     "text": [
      "False\n",
      "True\n",
      "False\n",
      "True\n",
      "False\n",
      "True\n",
      "False\n"
     ]
    }
   ],
   "source": [
    "#comparison operators\n",
    "x=10\n",
    "y=20\n",
    "print(x==y) \n",
    "print(x!=y)\n",
    "print(x>y)\n",
    "print(x<y)\n",
    "print(x>=y)\n",
    "print(x<=y)\n",
    "print(x==y)\n"
   ]
  },
  {
   "cell_type": "code",
   "execution_count": 65,
   "id": "d5bf3a7a-7032-47e3-88fd-4206c1b7bf78",
   "metadata": {},
   "outputs": [
    {
     "name": "stdout",
     "output_type": "stream",
     "text": [
      "False\n",
      "True\n",
      "False\n"
     ]
    }
   ],
   "source": [
    "#logical operators\n",
    "x=10\n",
    "y=20\n",
    "print(x==10 and x<y and x==y ) #and->returns true if both statements are true\n",
    "print(x!=10 or x<y or x==y ) #or-> returns true if one of the statements is true\n",
    "print(x!=10 ) #not->reverse the result, returns false if the result is true"
   ]
  },
  {
   "cell_type": "code",
   "execution_count": 69,
   "id": "e903aa9f-6cb0-453a-88f1-69e311dabf85",
   "metadata": {},
   "outputs": [
    {
     "name": "stdout",
     "output_type": "stream",
     "text": [
      "False\n"
     ]
    }
   ],
   "source": [
    "#membership operators\n",
    "string1=\"Hello\"\n",
    "print('h' in string1)\n",
    "print('h' not in  string1)"
   ]
  },
  {
   "cell_type": "code",
   "execution_count": 73,
   "id": "9477e6d7-2def-443f-97d8-6bc09b23cca1",
   "metadata": {},
   "outputs": [
    {
     "name": "stdout",
     "output_type": "stream",
     "text": [
      "True\n",
      "False\n"
     ]
    }
   ],
   "source": [
    "l=[10,20,30,40,50]\n",
    "print(50 in l)\n",
    "print(50 not in l)"
   ]
  },
  {
   "cell_type": "code",
   "execution_count": 77,
   "id": "0f3f94a5-854c-4fa0-ae25-05a72c79478b",
   "metadata": {},
   "outputs": [
    {
     "name": "stdout",
     "output_type": "stream",
     "text": [
      "True True\n",
      "False False\n"
     ]
    }
   ],
   "source": [
    "#identity operators\n",
    "x=10\n",
    "y=10\n",
    "print(x is y,x==y) #is-> returns true if both variables are same objects\n",
    "print(x is not y,x!=y) # is not-> returns true if both variables are not the same object"
   ]
  },
  {
   "cell_type": "code",
   "execution_count": 1,
   "id": "3fbb121b-23a4-4e24-9541-7fd63bd37bf7",
   "metadata": {},
   "outputs": [
    {
     "name": "stdout",
     "output_type": "stream",
     "text": [
      "0b1010\n",
      "0b1000\n",
      "8 0b1000\n",
      "10 0b1010\n"
     ]
    }
   ],
   "source": [
    "#bitwise oopeartors\n",
    "x=10\n",
    "y=8\n",
    "print(bin(x))\n",
    "print(bin(y))\n",
    "print(x&y,bin(x&y))\n",
    "print(x|y,bin(x|y))"
   ]
  },
  {
   "cell_type": "code",
   "execution_count": 9,
   "id": "0654349d-bdc6-4259-ac0a-91ef6639b972",
   "metadata": {},
   "outputs": [
    {
     "name": "stdout",
     "output_type": "stream",
     "text": [
      "5 <class 'int'>\n",
      "5.5 <class 'float'>\n",
      "(2+5j) <class 'complex'>\n",
      "this is a string <class 'str'>\n",
      " a multistring\n",
      "welcome  <class 'str'>\n"
     ]
    }
   ],
   "source": [
    "#data types\n",
    "# numeric(integers,float,complex)\n",
    "#sequence type(string ,list,tuple)\n",
    "#dictionary\n",
    "#set\n",
    "a=5\n",
    "print(a,type(a)) #integers\n",
    "a=5.5\n",
    "print(a,type(a)) #float\n",
    "a=2+5j\n",
    "print(a,type(a)) #complex\n"
   ]
  },
  {
   "cell_type": "code",
   "execution_count": null,
   "id": "d20b8d61-bbbe-45d9-b69c-3291b8a8f6c7",
   "metadata": {},
   "outputs": [],
   "source": [
    "#mutable and immutable data types\n",
    "#mutable object can change its state or contents and immutable objects cannot\n",
    "#mutable data types-> list dictionary,byte array\n",
    "#immutable data type-> int,float,complex,string,tuple,set"
   ]
  },
  {
   "cell_type": "code",
   "execution_count": 23,
   "id": "f886fdd3-ac52-45ba-9b8e-d22d4d2ea1ae",
   "metadata": {},
   "outputs": [
    {
     "name": "stdout",
     "output_type": "stream",
     "text": [
      "this is a string <class 'str'>\n",
      " a multistring\n",
      "welcome  <class 'str'>\n"
     ]
    }
   ],
   "source": [
    "# A string is a collection of one or more charactersput in a single quote, double-quote or triple quote\n",
    "#Multi-line string can be denoted using triple quotes,''' or \"\"\"\n",
    "s=\"this is a string\"\n",
    "print(s,type(s))\n",
    "s=''' a multistring\n",
    "welcome '''\n",
    "print(s,type(s))"
   ]
  },
  {
   "cell_type": "code",
   "execution_count": 33,
   "id": "ad669697-3a24-4a05-b1ea-56c3892f629d",
   "metadata": {},
   "outputs": [
    {
     "name": "stdout",
     "output_type": "stream",
     "text": [
      "[10, 'ws', 5.5] <class 'list'>\n",
      "[10, 'ws', 5]\n"
     ]
    }
   ],
   "source": [
    "#List is an orederd sequence of items\n",
    "#it is one of the most used datatype inpython and is very flexible\n",
    "#[]\n",
    "l=[10,'ws',5.5]\n",
    "print(l,type(l))\n",
    "l[2]=5 #update at index 2->index starts from 0\n",
    "print(l)"
   ]
  },
  {
   "cell_type": "code",
   "execution_count": 57,
   "id": "844ff1e5-7505-4690-b036-960d74a3e535",
   "metadata": {},
   "outputs": [
    {
     "name": "stdout",
     "output_type": "stream",
     "text": [
      "(10, 20, 'hello') <class 'tuple'>\n",
      "10 <class 'int'>\n"
     ]
    }
   ],
   "source": [
    "#tuple is an orderd sequence of items as a list\n",
    "#it is defined within parentheses() wher items are separeted by commas\n",
    "t=(10,20,'hello')\n",
    "print(t,type(t))\n",
    "t=(10)\n",
    "print(t,type(t)) #tuple is faster than list becoz doest not allow updations and deletions\n",
    "#t[1]= 3 #it is immutable-> can't make changes\n",
    "#print(t)"
   ]
  },
  {
   "cell_type": "code",
   "execution_count": 53,
   "id": "ca45473f-91f8-479a-a8a0-385704a17c09",
   "metadata": {},
   "outputs": [
    {
     "name": "stdout",
     "output_type": "stream",
     "text": [
      "{'name': 'muskan', 'age': 23} <class 'dict'>\n",
      "muskan\n"
     ]
    }
   ],
   "source": [
    "#dictionary is an unordered collection of key-values pairs\n",
    "#in python, dictionary are defined within braces{} with each item being a pair in the form key:value\n",
    "# key is always unique we can't assign same type of key in dictionary\n",
    "d={\n",
    "    'name':'muskan',\n",
    "    'age':23\n",
    "}\n",
    "print(d,type(d))\n",
    "print(d['name']) #keys gives value"
   ]
  },
  {
   "cell_type": "code",
   "execution_count": 59,
   "id": "d2ab0b0d-6333-4557-823b-dc1506b2ab58",
   "metadata": {},
   "outputs": [
    {
     "name": "stdout",
     "output_type": "stream",
     "text": [
      "{10, 20, 30} <class 'set'>\n"
     ]
    }
   ],
   "source": [
    "#set is an unoredered collection of items\n",
    "#every set elements is unique(no duplicates) and must be immutable(cannot be changed)\n",
    "#{}\n",
    "s={10,20,30,10}\n",
    "print(s,type(s))"
   ]
  },
  {
   "cell_type": "code",
   "execution_count": 63,
   "id": "b57018b9-801e-4d5e-bc88-849735fc17cc",
   "metadata": {},
   "outputs": [
    {
     "name": "stdin",
     "output_type": "stream",
     "text": [
      "enter the value:- 10\n"
     ]
    },
    {
     "name": "stdout",
     "output_type": "stream",
     "text": [
      "10\n"
     ]
    }
   ],
   "source": [
    "#getting user input and type casting\n",
    "a=input(\"enter the value:-\")\n",
    "# input()-> takes input from users at run time\n",
    "print(a)\n"
   ]
  },
  {
   "cell_type": "code",
   "execution_count": 65,
   "id": "b3285912-95ff-468c-98a8-1930dd407644",
   "metadata": {},
   "outputs": [
    {
     "name": "stdin",
     "output_type": "stream",
     "text": [
      "enter the value1:- 12\n",
      "enter the value2:- 34\n"
     ]
    },
    {
     "name": "stdout",
     "output_type": "stream",
     "text": [
      "1234\n"
     ]
    }
   ],
   "source": [
    "a=input(\"enter the value1:-\")\n",
    "b=input(\"enter the value2:-\")\n",
    "print(a+b) #here its concatenate so we need to typecast"
   ]
  },
  {
   "cell_type": "code",
   "execution_count": 73,
   "id": "b0f3fbfa-af6c-422d-a892-843ed894e91d",
   "metadata": {},
   "outputs": [
    {
     "name": "stdin",
     "output_type": "stream",
     "text": [
      "enter the value1:- 12\n",
      "enter the value2:- 23\n"
     ]
    },
    {
     "name": "stdout",
     "output_type": "stream",
     "text": [
      "35\n"
     ]
    },
    {
     "name": "stdin",
     "output_type": "stream",
     "text": [
      "enter the value1:- 2.2\n",
      "enter the value2:- 2.1\n"
     ]
    },
    {
     "name": "stdout",
     "output_type": "stream",
     "text": [
      "4.300000000000001\n"
     ]
    },
    {
     "name": "stdin",
     "output_type": "stream",
     "text": [
      "enter the value2:- 12\n",
      "enter the value1:- 2.2\n"
     ]
    },
    {
     "name": "stdout",
     "output_type": "stream",
     "text": [
      "14.2\n"
     ]
    }
   ],
   "source": [
    "#type cast in int,float, eval\n",
    "a=int(input(\"enter the value1:-\"))\n",
    "b=int(input(\"enter the value2:-\"))\n",
    "print(a+b) \n",
    "a=float(input(\"enter the value1:-\"))\n",
    "b=float(input(\"enter the value2:-\"))\n",
    "print(a+b) \n",
    "b=int(input(\"enter the value2:-\"))\n",
    "a=float(input(\"enter the value1:-\"))\n",
    "print(a+b) "
   ]
  },
  {
   "cell_type": "code",
   "execution_count": 77,
   "id": "90000e8f-8340-44a6-995d-9009067273f8",
   "metadata": {},
   "outputs": [
    {
     "name": "stdin",
     "output_type": "stream",
     "text": [
      "enter the value1:- 0b1010\n",
      "enter the value2:- 30\n"
     ]
    },
    {
     "name": "stdout",
     "output_type": "stream",
     "text": [
      "40\n"
     ]
    }
   ],
   "source": [
    "#eval automatically convert varaibles in to required data type ex it can convert binary to int\n",
    "a=eval(input(\"enter the value1:-\")) #0b1010\n",
    "b=eval(input(\"enter the value2:-\")) #30\n",
    "print(a+b) #40"
   ]
  },
  {
   "cell_type": "code",
   "execution_count": 94,
   "id": "5ec9c01d-1194-45cd-a1cf-b305c368bb4e",
   "metadata": {},
   "outputs": [
    {
     "name": "stdin",
     "output_type": "stream",
     "text": [
      "enter a number:- 23\n"
     ]
    },
    {
     "name": "stdout",
     "output_type": "stream",
     "text": [
      "23 odd number\n"
     ]
    }
   ],
   "source": [
    "#conditional statements\n",
    "#if else statement\n",
    "a=int(input(\"enter a number:-\"))\n",
    "if a%2==0:\n",
    "    print(a,\"even number\")\n",
    " #print(\"welcome\")-. we should maintance equal space here for every print\n",
    "else:\n",
    "    print(a,\"odd number\")\n"
   ]
  },
  {
   "cell_type": "code",
   "execution_count": 102,
   "id": "e907fcb5-9c21-4f34-a83f-2a699a46778e",
   "metadata": {},
   "outputs": [
    {
     "name": "stdin",
     "output_type": "stream",
     "text": [
      "enter a number:- 15\n"
     ]
    },
    {
     "name": "stdout",
     "output_type": "stream",
     "text": [
      "fail\n"
     ]
    }
   ],
   "source": [
    "#if elif else \n",
    "per=int(input(\"enter a number:-\"))\n",
    "if per>=60:\n",
    "    print(\"first division\")\n",
    "elif per>=48:\n",
    "     print(\"second division\")\n",
    "elif per>=35:\n",
    "     print(\"third division\")\n",
    "else:\n",
    "     print(\"fail\")\n",
    "\n"
   ]
  },
  {
   "cell_type": "code",
   "execution_count": 108,
   "id": "37ac7e58-2680-48bc-a182-fd51e7a7d344",
   "metadata": {},
   "outputs": [
    {
     "name": "stdout",
     "output_type": "stream",
     "text": [
      "\n",
      "+ add\n",
      "- subtract\n",
      "* multiply\n",
      "/ divide\n",
      "\n"
     ]
    },
    {
     "name": "stdin",
     "output_type": "stream",
     "text": [
      "enter number1:- 23\n",
      "enter number2:- 45\n",
      "enter opeartor(+,-,*,/) p\n"
     ]
    },
    {
     "name": "stdout",
     "output_type": "stream",
     "text": [
      "invalid operation\n"
     ]
    }
   ],
   "source": [
    "#calculator\n",
    "print('''\n",
    "+ add\n",
    "- subtract\n",
    "* multiply\n",
    "/ divide\n",
    "''')\n",
    "num1=int(input(\"enter number1:-\"))\n",
    "num2=int(input(\"enter number2:-\"))\n",
    "opr=input(\"enter opeartor(+,-,*,/)\")\n",
    "if opr=='+':\n",
    "    print(num1+num2)\n",
    "elif opr=='-':\n",
    "    print(num1-num2)\n",
    "elif opr=='*':\n",
    "    print(num1*num2)\n",
    "elif opr=='/':\n",
    "    print(num1/num2)\n",
    "else:\n",
    "    print(\"invalid operation\")"
   ]
  },
  {
   "cell_type": "code",
   "execution_count": 112,
   "id": "49b93b15-470e-4380-a725-fa908fe815a7",
   "metadata": {},
   "outputs": [
    {
     "name": "stdout",
     "output_type": "stream",
     "text": [
      "\n",
      "+ add\n",
      "- subtract\n",
      "* multiply\n",
      "/ divide\n",
      "\n"
     ]
    },
    {
     "name": "stdin",
     "output_type": "stream",
     "text": [
      "enter number1:- 23\n",
      "enter number2:- 45\n",
      "enter opeartor(+,-,*,/) p\n"
     ]
    },
    {
     "name": "stdout",
     "output_type": "stream",
     "text": [
      "invalid operation\n"
     ]
    }
   ],
   "source": [
    "#calculator\n",
    "print('''\n",
    "+ add\n",
    "- subtract\n",
    "* multiply\n",
    "/ divide\n",
    "''')\n",
    "num1=int(input(\"enter number1:-\"))\n",
    "num2=int(input(\"enter number2:-\"))\n",
    "opr=input(\"enter opeartor(+,-,*,/)\")\n",
    "if opr=='+':\n",
    "    print(num1+num2)\n",
    "if opr=='-':\n",
    "    print(num1-num2)\n",
    "if opr=='*':\n",
    "    print(num1*num2)\n",
    "if opr=='/':\n",
    "    print(num1/num2)\n",
    "if opr!='+' and opr!='-' and opr!='*' and opr!='/':\n",
    "    print(\"invalid operation\")\n",
    "# if we wnt to execuate a program fast means we have to use if elif else statement"
   ]
  },
  {
   "cell_type": "code",
   "execution_count": 9,
   "id": "73612934-f033-47aa-90e8-11e3d43d5833",
   "metadata": {},
   "outputs": [
    {
     "data": {
      "text/plain": [
       "range(1, 6, 2)"
      ]
     },
     "execution_count": 9,
     "metadata": {},
     "output_type": "execute_result"
    }
   ],
   "source": [
    "\n",
    "#range\n",
    "range(5) #start =0 and end=5\n",
    "range(1,5) #start=1 and ends at 5\n",
    "range(1,6,2) #->1,3,5 (start=1, ends at 5 and incrdement is 2)"
   ]
  },
  {
   "cell_type": "code",
   "execution_count": 48,
   "id": "d19b1ec5-5dd8-4047-93d3-fb5990176992",
   "metadata": {},
   "outputs": [
    {
     "name": "stdout",
     "output_type": "stream",
     "text": [
      "0\n",
      "1\n",
      "2\n",
      "3\n",
      "4\n",
      "-------\n",
      "1\n",
      "2\n",
      "3\n",
      "4\n",
      "5\n",
      "-----\n",
      "1\n",
      "3\n",
      "5\n",
      "-----\n",
      "2   *   1   =   2\n",
      "2   *   2   =   4\n",
      "2   *   3   =   6\n",
      "2   *   4   =   8\n",
      "2   *   5   =   10\n",
      "2   *   6   =   12\n",
      "2   *   7   =   14\n",
      "2   *   8   =   16\n",
      "2   *   9   =   18\n",
      "2   *   10   =   20\n"
     ]
    }
   ],
   "source": [
    "#for loop\n",
    "for n in range(5):\n",
    "    print(n)\n",
    "print(\"-------\")\n",
    "for n in range(1,6):\n",
    "    print(n)\n",
    "print(\"-----\")\n",
    "for n in range(1,6,2): #increment\n",
    "    print(n)\n",
    "print(\"-----\")\n",
    "for a in range(1,11):\n",
    "    print(\"2\",\" \",\"*\",\" \",a,\" \",\"=\",\" \",2*a)"
   ]
  },
  {
   "cell_type": "code",
   "execution_count": 60,
   "id": "c38422c7-477a-4c92-b8a6-b1a7fb387158",
   "metadata": {},
   "outputs": [
    {
     "name": "stdout",
     "output_type": "stream",
     "text": [
      "10\n",
      "9\n",
      "8\n",
      "7\n",
      "6\n",
      "5\n",
      "4\n",
      "3\n",
      "2\n",
      "1\n",
      "-----\n",
      "2   *   10   =   20\n",
      "2   *   9   =   18\n",
      "2   *   8   =   16\n",
      "2   *   7   =   14\n",
      "2   *   6   =   12\n",
      "2   *   5   =   10\n",
      "2   *   4   =   8\n",
      "2   *   3   =   6\n",
      "2   *   2   =   4\n",
      "2   *   1   =   2\n"
     ]
    }
   ],
   "source": [
    "#reverse\n",
    "range(10,0) #decrement we should maintaine -1\n",
    "for n in range(10,0,-1):\n",
    "    print(n)\n",
    "print(\"-----\")\n",
    "for a in range(10,0,-1):\n",
    "    print(\"2\",\" \",\"*\",\" \",a,\" \",\"=\",\" \",2*a)"
   ]
  },
  {
   "cell_type": "code",
   "execution_count": 66,
   "id": "e0e05420-f256-420c-9e57-9bc0b1739a7d",
   "metadata": {},
   "outputs": [
    {
     "name": "stdout",
     "output_type": "stream",
     "text": [
      "welcome to india\n",
      "welcome to india\n",
      "welcome to india\n",
      "welcome to india\n",
      "welcome to india\n",
      "welcome to india\n",
      "welcome to india\n",
      "welcome to india\n",
      "welcome to india\n",
      "welcome to india\n",
      "11\n",
      "10 hello\n",
      "9 hello\n",
      "8 hello\n",
      "7 hello\n",
      "6 hello\n",
      "5 hello\n",
      "4 hello\n",
      "3 hello\n",
      "2 hello\n",
      "1 hello\n",
      "0\n"
     ]
    }
   ],
   "source": [
    "#while loop\n",
    "i=1\n",
    "while i<=10:\n",
    "    print(\"welcome to india\")\n",
    "    i=i+1;\n",
    "print(i)\n",
    "a=10\n",
    "while a>=1:\n",
    "    print(a,\"hello\")\n",
    "    a=a-1\n",
    "print(a)"
   ]
  },
  {
   "cell_type": "code",
   "execution_count": 74,
   "id": "71ee0a0e-6757-4e82-b000-ee9b9a8ddb49",
   "metadata": {},
   "outputs": [
    {
     "name": "stdout",
     "output_type": "stream",
     "text": [
      "muskan shireen\n",
      "n\n",
      " \n",
      "s\n",
      "i\n"
     ]
    }
   ],
   "source": [
    "#string is a sequence of character\n",
    "# strings can be created by enclosing characters inside a single quote or double quote\n",
    "#triple quotes can be used represent multiline strings which will be exactly as we keep\n",
    "# left to right indexing start at 0 and end at length-1\n",
    "#right to left indexing start at -1 and -length\n",
    "# space also a character in a string, it to has indexing\n",
    "print(\"muskan shireen\")\n",
    "s=\"muskan shireen\"\n",
    "print(s[5])\n",
    "print(s[6])\n",
    "print(s[7])\n",
    "print(s[-5])\n"
   ]
  },
  {
   "cell_type": "code",
   "execution_count": 220,
   "id": "49d821f2-d29b-4405-b6fe-335d544edd85",
   "metadata": {},
   "outputs": [
    {
     "name": "stdout",
     "output_type": "stream",
     "text": [
      "muskan shireen\n",
      "muska\n",
      "muskan shi\n",
      "muskan shireen\n",
      "msa hre\n",
      "mk ie\n",
      "an shireen\n",
      "muskan shireen\n",
      "REVERSING STRING USING SLICING\n",
      "neerihs naksum\n",
      "neisn\n"
     ]
    }
   ],
   "source": [
    "#slicing depends on index value\n",
    "print(\"muskan shireen\")\n",
    "s=\"muskan shireen\"\n",
    "print(s[0:5]) #start at 0 but ends at one index less ie 4\n",
    "print(s[0:10])\n",
    "print(s[0::1])\n",
    "print(s[0::2]) #3rd value in slicing indicates increment\n",
    "print(s[0::3])\n",
    "print(s[4::])\n",
    "print(s[::])\n",
    "print(\"REVERSING STRING USING SLICING\")\n",
    "print(s[-1::-1]) #for revesing a string in slicing definetly we should maintain -1 as a decreemnt in 3rd value\n",
    "print(s[-1:-10:-2])"
   ]
  },
  {
   "cell_type": "code",
   "execution_count": 216,
   "id": "be0108ac-8d0b-410e-8221-eef2748fe89a",
   "metadata": {},
   "outputs": [
    {
     "name": "stdout",
     "output_type": "stream",
     "text": [
      "muskan shireen\n",
      "STRING ITERATION\n",
      "14\n",
      "m\n",
      "u\n",
      "s\n",
      "k\n",
      "a\n",
      "n\n",
      " \n",
      "s\n",
      "h\n",
      "i\n",
      "r\n",
      "e\n",
      "e\n",
      "n\n",
      "--STRING ITERATION 2ND METHOD--\n",
      "muskan shireen\n",
      "m\n",
      "u\n",
      "s\n",
      "k\n",
      "a\n",
      "n\n",
      " \n",
      "s\n",
      "h\n",
      "i\n",
      "r\n",
      "e\n",
      "e\n",
      "n\n",
      "--REVERSING A STRING USING SLICING--\n",
      "muskan shireen\n",
      "n\n",
      "e\n",
      "e\n",
      "r\n",
      "i\n",
      "h\n",
      "s\n",
      " \n",
      "n\n",
      "a\n",
      "k\n",
      "s\n",
      "u\n",
      "m\n",
      "--2ND METHOD REVERSING STRING BY USING LENGTH--\n",
      "muskan shireen\n",
      "n\n",
      "e\n",
      "e\n",
      "r\n",
      "i\n",
      "h\n",
      "s\n",
      " \n",
      "n\n",
      "a\n",
      "k\n",
      "s\n",
      "u\n",
      "m\n",
      "----\n"
     ]
    }
   ],
   "source": [
    "#string iteration\n",
    "print(\"muskan shireen\")\n",
    "s=\"muskan shireen\"\n",
    "print(\"STRING ITERATION\")\n",
    "t=len(s) # len() gives length of a string which will be the last index value\n",
    "print(t)\n",
    "for a in range(t):\n",
    "    print(s[a])\n",
    "print(\"--STRING ITERATION 2ND METHOD--\")\n",
    "#2nd method by direct passing a string in for loop\n",
    "print(\"muskan shireen\")\n",
    "s=\"muskan shireen\"\n",
    "for a in s:\n",
    "    print(a)\n",
    "print(\"--REVERSING A STRING USING SLICING--\")\n",
    "# reversing a string\n",
    "#first menthod by slicing\n",
    "print(\"muskan shireen\")\n",
    "s=\"muskan shireen\"\n",
    "s=s[-1::-1]\n",
    "for a in range(t):\n",
    "    print(s[a])\n",
    "print(\"--2ND METHOD REVERSING STRING BY USING LENGTH--\")\n",
    "#2nd method\n",
    "print(\"muskan shireen\")\n",
    "s=\"muskan shireen\"\n",
    "t=len(s)\n",
    "for a in range(t-1,-1,-1):\n",
    "     print(s[a])\n",
    "print(\"----\")"
   ]
  },
  {
   "cell_type": "code",
   "execution_count": 218,
   "id": "67ffab9b-a42f-4929-aa23-a59915cafe37",
   "metadata": {},
   "outputs": [
    {
     "name": "stdout",
     "output_type": "stream",
     "text": [
      "muskan shireen\n",
      "-----LOWER CASE----\n",
      "muskan shireen\n",
      "-----UPPER CASE-----\n",
      "MUSKAN SHIREEN\n",
      "-----TITLE()------\n",
      "Muskan Shireen\n",
      "-----CAPITALIZE()----\n",
      "Muskan shireen\n",
      "-----FIND()-----\n",
      "1\n",
      "3\n",
      "-1\n",
      "-1\n",
      "-----INDEX-----\n",
      "3\n",
      "3\n",
      "-----ISALPHA()----\n",
      "False\n",
      "----ISDIGIT()-----\n",
      "False\n",
      "True\n",
      "---ISALNUM()---\n",
      "True\n",
      "True\n",
      "True\n",
      "False\n",
      "----CHAR()---\n",
      "A <class 'str'>\n",
      "----ORD()----\n",
      "65 <class 'int'>\n"
     ]
    }
   ],
   "source": [
    "#python string function\n",
    "print(\"muskan shireen\")\n",
    "s=\"muskan Shireen\"\n",
    "print(\"-----LOWER CASE----\")\n",
    "#lower():-lower case-> convert string's allcharacters in lower case\n",
    "n=s.lower()\n",
    "print(n)\n",
    "print(\"-----UPPER CASE-----\")\n",
    "#upper():- upper case-> convert string's all characters in upper \n",
    "u=s.upper()\n",
    "print(u)\n",
    "print(\"-----TITLE()------\")\n",
    "#title()-> convert every string first characters in upper case and remainaing characters in lower case\n",
    "t=s.title()\n",
    "print(t)\n",
    "print(\"-----CAPITALIZE()----\")\n",
    "#capitalize->convert only first  string characters in upper case and remainaing characters in lower case\n",
    "c=s.capitalize()\n",
    "print(c)\n",
    "print(\"-----FIND()-----\")\n",
    "#find()->finds the charater index in a string\n",
    "str=\"muskan\"\n",
    "print(str.find('u'))\n",
    "print(str.find('k',2)) #here 2 indicate from which index we should start searching\n",
    "print(str.find('u',4)) #if character is before the searching index it simply returns -1 becoz it assume that character is not present\n",
    "print(str.find('z')) #if character is not present string it return -1\n",
    "#index()\n",
    "print(\"-----INDEX-----\")\n",
    "print(str.index('k'))\n",
    "print(str.index('k',3)) #here 3 is starting index\n",
    "#print(str.index('z')) #return error\n",
    "print(\"-----ISALPHA()----\")\n",
    "#isalpha()-> it return true if all characters are alphabets otherwise it returns false\n",
    "str=\"muskan1\"\n",
    "print(str.isalpha())\n",
    "print(\"----ISDIGIT()-----\")\n",
    "#isdigit()->it return true if all characters are numbers otherwise it returns false\n",
    "print(str.isdigit())\n",
    "str1=\"12345\"\n",
    "print(str1.isdigit())\n",
    "print(\"---ISALNUM()---\")\n",
    "#isalnum()-> it returns true if atleast one alphabet or number is present in a string but for atleast one special character it return false\n",
    "str2=\"muskan2250\"\n",
    "print(str.isalnum())\n",
    "print(str1.isalnum())\n",
    "print(str2.isalnum())\n",
    "str3=\"@23ty\"\n",
    "print(str3.isalnum())\n",
    "print(\"----CHAR()---\")\n",
    "# chr() and ord() works on asci value(ascii values start from 65(A))\n",
    "#chr()-> takes integer and convert it into a character string according to its ascii value\n",
    "y=chr(65)\n",
    "print(y,type(y))\n",
    "#ord()-> takes single character and it convert it into its responding  asci value\n",
    "print(\"----ORD()----\")\n",
    "y=ord('A')\n",
    "print(y,type(y))\n",
    "#z=ord(\"hello\")\n",
    "# print(z) -> return error"
   ]
  },
  {
   "cell_type": "code",
   "execution_count": null,
   "id": "f2a3b36a-876b-4ea5-b029-9098f1d4e828",
   "metadata": {},
   "outputs": [],
   "source": []
  },
  {
   "cell_type": "code",
   "execution_count": null,
   "id": "a21657e8-6aa7-4e73-9fb7-07315c94af56",
   "metadata": {},
   "outputs": [],
   "source": []
  }
 ],
 "metadata": {
  "kernelspec": {
   "display_name": "Python [conda env:base] *",
   "language": "python",
   "name": "conda-base-py"
  },
  "language_info": {
   "codemirror_mode": {
    "name": "ipython",
    "version": 3
   },
   "file_extension": ".py",
   "mimetype": "text/x-python",
   "name": "python",
   "nbconvert_exporter": "python",
   "pygments_lexer": "ipython3",
   "version": "3.12.7"
  }
 },
 "nbformat": 4,
 "nbformat_minor": 5
}
